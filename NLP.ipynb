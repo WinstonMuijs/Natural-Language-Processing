{
  "cells": [
    {
      "cell_type": "markdown",
      "metadata": {
        "id": "view-in-github",
        "colab_type": "text"
      },
      "source": [
        "<a href=\"https://colab.research.google.com/github/WinstonMuijs/Natural-Language-Processing/blob/main/NLP.ipynb\" target=\"_parent\"><img src=\"https://colab.research.google.com/assets/colab-badge.svg\" alt=\"Open In Colab\"/></a>"
      ]
    },
    {
      "cell_type": "markdown",
      "source": [
        "# Regular Expression"
      ],
      "metadata": {
        "datalore": {
          "node_id": "IiBhVOBRgHRMicqMZ7PRI3",
          "type": "MD",
          "hide_input_from_viewers": false,
          "hide_output_from_viewers": false,
          "report_properties": {
            "rowId": "MxAwQYk3s3icRHqfdfSr8R",
            "relativeY": 0
          }
        },
        "id": "GWUxj6Nwjt8i"
      }
    },
    {
      "cell_type": "code",
      "source": [
        "import re"
      ],
      "execution_count": null,
      "outputs": [],
      "metadata": {
        "datalore": {
          "node_id": "442dj3o5zAMVuECqARrvBO",
          "type": "CODE",
          "hide_input_from_viewers": false,
          "hide_output_from_viewers": false,
          "report_properties": {
            "rowId": "AYfV49bEjW0Nm1zVl1UYGS",
            "relativeY": 0
          }
        },
        "pycharm": {
          "is_executing": true
        },
        "id": "0fQtxpoWjt8m"
      }
    },
    {
      "cell_type": "code",
      "source": [
        "re.match(\"abc\", \"abcdef\") # kijkt of er een match is van het patroon met string/tekst/document"
      ],
      "execution_count": null,
      "outputs": [
        {
          "output_type": "execute_result",
          "data": {
            "text/plain": [
              "<re.Match object; span=(0, 3), match='abc'>"
            ]
          },
          "metadata": {},
          "execution_count": 262
        }
      ],
      "metadata": {
        "datalore": {
          "node_id": "nNm0eDA9fWzSfLIBw1Ec5V",
          "type": "CODE",
          "hide_input_from_viewers": false,
          "hide_output_from_viewers": false,
          "report_properties": {
            "rowId": "t8ZIQoN9CrxS6xiwIQOPsj",
            "relativeY": 0
          }
        },
        "pycharm": {
          "is_executing": true
        },
        "colab": {
          "base_uri": "https://localhost:8080/"
        },
        "id": "6XpEzXjvjt8n",
        "outputId": "295d4a60-84b1-40e8-aca4-e8806e8605eb"
      }
    },
    {
      "cell_type": "code",
      "source": [
        "\n",
        "word_regex = r\"\\w+\"\n",
        "re.match(word_regex, 'Hi There!')"
      ],
      "execution_count": null,
      "outputs": [
        {
          "output_type": "execute_result",
          "data": {
            "text/plain": [
              "<re.Match object; span=(0, 2), match='Hi'>"
            ]
          },
          "metadata": {},
          "execution_count": 263
        }
      ],
      "metadata": {
        "datalore": {
          "node_id": "ByJ2EtsXKfwAIpYdSzJs2w",
          "type": "CODE",
          "hide_input_from_viewers": false,
          "hide_output_from_viewers": false,
          "report_properties": {
            "rowId": "2I7iuCerRfeNd6yp4uG3bX",
            "relativeY": 0
          }
        },
        "pycharm": {
          "is_executing": true
        },
        "colab": {
          "base_uri": "https://localhost:8080/"
        },
        "id": "rZ7S4G-qjt8o",
        "outputId": "9a377b52-6b72-400c-96f1-da576fbd257b"
      }
    },
    {
      "cell_type": "markdown",
      "source": [
        "Een aantal expressies\n",
        "\n",
        "- '\\w+' = woorden\n",
        "- '\\d' = getallen\n",
        "- '\\s' = space\n",
        "- '.*' = wildcard - letters, woorden of symbolen\n",
        "- '+ of *' = gretige matches - \"meerdere woorden, letters of symbolen\n",
        "- \\S = not space\n",
        "- [a-z] = kleine letters - \"abcdefghi\"\n",
        "- [A-Z] = hoofdletters"
      ],
      "metadata": {
        "datalore": {
          "node_id": "UYArJVbERwmweDRpg8R2pc",
          "type": "MD",
          "hide_input_from_viewers": false,
          "hide_output_from_viewers": false,
          "report_properties": {
            "rowId": "fVgsKCRtQOhrFyMC4sw5iY",
            "relativeY": 0
          }
        },
        "id": "dl4XJWiqjt8o"
      }
    },
    {
      "cell_type": "markdown",
      "source": [],
      "metadata": {
        "datalore": {
          "node_id": "9c5mkFpGTbwru2DUBoAbon",
          "type": "MD",
          "hide_input_from_viewers": true,
          "hide_output_from_viewers": true
        },
        "id": "AtKUmahYjt8o"
      }
    },
    {
      "cell_type": "markdown",
      "source": [
        "- split op een patroon\n",
        "- findall vindt alle patronen in een tekst\n",
        "- search: zoekt een patroon in een tekst - als het patroon later in de tekst/document kan voorkomen, niet gelijk aan het begin.\n",
        "- match : als het patroon specifiek vanaf het begin moet voorkomen.  "
      ],
      "metadata": {
        "datalore": {
          "node_id": "FybCOaic67cG7IvRLwlq5E",
          "type": "MD",
          "hide_input_from_viewers": false,
          "hide_output_from_viewers": false,
          "report_properties": {
            "rowId": "eWnipDt6AcBggBXc6WlZ44",
            "relativeY": 0
          }
        },
        "id": "0LdeQtHEjt8o"
      }
    },
    {
      "cell_type": "code",
      "source": [
        "my_string = \"let's write some Regex!\"\n",
        "\n",
        "words = re.findall(r\"\\w+\", my_string)\n",
        "\n",
        "print(words)"
      ],
      "execution_count": null,
      "outputs": [
        {
          "output_type": "stream",
          "name": "stdout",
          "text": [
            "['let', 's', 'write', 'some', 'Regex']\n"
          ]
        }
      ],
      "metadata": {
        "datalore": {
          "node_id": "yLEGLIzOZdU2y1f5jnNEfu",
          "type": "CODE",
          "hide_input_from_viewers": false,
          "hide_output_from_viewers": false,
          "report_properties": {
            "rowId": "DYCwzjS2bzI93nN6eB0PfD",
            "relativeY": 0
          }
        },
        "pycharm": {
          "is_executing": true
        },
        "colab": {
          "base_uri": "https://localhost:8080/"
        },
        "id": "nvvJw7OIjt8p",
        "outputId": "f2f16547-8b5c-4434-f5cc-f33cd3d7f8c7"
      }
    },
    {
      "cell_type": "markdown",
      "source": [
        "# split & findall"
      ],
      "metadata": {
        "datalore": {
          "node_id": "ahVLDr17OSZw3nzRrBW16O",
          "type": "MD",
          "hide_input_from_viewers": false,
          "hide_output_from_viewers": false,
          "report_properties": {
            "rowId": "fUaFlHqZRx50okS653g977",
            "relativeY": 0
          }
        },
        "id": "XUsbUYqVjt8p"
      }
    },
    {
      "cell_type": "code",
      "source": [
        "tekst = \"\"\"De volgende dag gaan zij naar Kervezee, die al een programma voor de nieuwe partij, de EEP (Europese Eenheids-Partij), blijkt te hebben opgesteld. Kernpunt is de opheffing van de Nederlandse staat. Lodewijk moet voorzitter worden, het geld voor propaganda en andere zaken moet van iemand anders komen. De naam van Key valt: hij wordt geraadpleegd, voelt er wel voor en wil het geld bijeen krijgen met het organiseren van een voetbalpool, gekoppeld aan een blad ‘Voetbal-Europa’. Na afloop neemt Lodewijk Gertie mee naar een duur kledinghuis. Hij koopt voor zijn vriendin nu twee kostbare mantels en twee paar schoenen; hij stuurt haar ook naar een schoonheidssalon en bezorgt haar een nieuwe bril. Als zij samen wat drinken, vertelt hij dat hij na zijn eindexamen in 1940 de studie Indologie was begonnen, maar die na twee jaar had afgebroken. In de oorlog had hij onder meer in het Vreemdelingenlegioen gediend en was toen als vrijwilliger naar Indonesië gegaan. Hij was luitenant, maar werd wegens corruptie gedegradeerd: hij had contact gehad met de Indonesiërs om melk te verkopen (dat was zijn verklaring); in werkelijkheid had hij over willen lopen om de eerste blanke generaal van Indonesië te worden. Want dat was altijd zijn droom geweest: generaal worden!\n",
        "Gertie's vader bedenkt dat Lodewijk zou kunnen werken bij het knipselbureau, waar hij zelf ook zijn geld verdient. Om aangenomen te worden moet hij wel zijn gymnasiumdiploma kunnen tonen. Dat ligt bij zijn ouders en onder geen beding wil Lodewijk naar hen toe om het op te halen. Gertie doet het voor hem, maar boekt geen succes: zij zijn niet thuis.\"\"\"\n",
        "zinseinden = r\"[.?!]\" # mogelijke zinseinden van een zin.\n",
        "# tekst splitsen op mogelijke zinseinden in zinnen.\n",
        "zinnen = re.split(zinseinden,tekst)\n",
        "print(zinnen)"
      ],
      "execution_count": null,
      "outputs": [
        {
          "output_type": "stream",
          "name": "stdout",
          "text": [
            "['De volgende dag gaan zij naar Kervezee, die al een programma voor de nieuwe partij, de EEP (Europese Eenheids-Partij), blijkt te hebben opgesteld', ' Kernpunt is de opheffing van de Nederlandse staat', ' Lodewijk moet voorzitter worden, het geld voor propaganda en andere zaken moet van iemand anders komen', ' De naam van Key valt: hij wordt geraadpleegd, voelt er wel voor en wil het geld bijeen krijgen met het organiseren van een voetbalpool, gekoppeld aan een blad ‘Voetbal-Europa’', ' Na afloop neemt Lodewijk Gertie mee naar een duur kledinghuis', ' Hij koopt voor zijn vriendin nu twee kostbare mantels en twee paar schoenen; hij stuurt haar ook naar een schoonheidssalon en bezorgt haar een nieuwe bril', ' Als zij samen wat drinken, vertelt hij dat hij na zijn eindexamen in 1940 de studie Indologie was begonnen, maar die na twee jaar had afgebroken', ' In de oorlog had hij onder meer in het Vreemdelingenlegioen gediend en was toen als vrijwilliger naar Indonesië gegaan', ' Hij was luitenant, maar werd wegens corruptie gedegradeerd: hij had contact gehad met de Indonesiërs om melk te verkopen (dat was zijn verklaring); in werkelijkheid had hij over willen lopen om de eerste blanke generaal van Indonesië te worden', ' Want dat was altijd zijn droom geweest: generaal worden', \"\\nGertie's vader bedenkt dat Lodewijk zou kunnen werken bij het knipselbureau, waar hij zelf ook zijn geld verdient\", ' Om aangenomen te worden moet hij wel zijn gymnasiumdiploma kunnen tonen', ' Dat ligt bij zijn ouders en onder geen beding wil Lodewijk naar hen toe om het op te halen', ' Gertie doet het voor hem, maar boekt geen succes: zij zijn niet thuis', '']\n"
          ]
        }
      ],
      "metadata": {
        "datalore": {
          "node_id": "Rtzwos06ngO3olBibbNaP8",
          "type": "CODE",
          "hide_input_from_viewers": false,
          "hide_output_from_viewers": false,
          "report_properties": {
            "rowId": "8Ih49bUzwVOepiislpQ5xf",
            "relativeY": 0
          }
        },
        "pycharm": {
          "is_executing": true
        },
        "colab": {
          "base_uri": "https://localhost:8080/"
        },
        "id": "jRaT9WLUjt8p",
        "outputId": "12d796f6-2f74-4499-e895-a24e0b908ab9"
      }
    },
    {
      "cell_type": "code",
      "source": [
        "# een zin splitsen op spaces\n",
        "space = r\"\\s+\"\n",
        "zin = re.split(space, zinnen[0])\n",
        "print(zin)"
      ],
      "execution_count": null,
      "outputs": [
        {
          "output_type": "stream",
          "name": "stdout",
          "text": [
            "['De', 'volgende', 'dag', 'gaan', 'zij', 'naar', 'Kervezee,', 'die', 'al', 'een', 'programma', 'voor', 'de', 'nieuwe', 'partij,', 'de', 'EEP', '(Europese', 'Eenheids-Partij),', 'blijkt', 'te', 'hebben', 'opgesteld']\n"
          ]
        }
      ],
      "metadata": {
        "datalore": {
          "node_id": "A8c6l7KqGRFFEo5z4GJx63",
          "type": "CODE",
          "hide_input_from_viewers": false,
          "hide_output_from_viewers": false,
          "report_properties": {
            "rowId": "PU25YLWaLraUIqaBP9P3vp",
            "relativeY": 0
          }
        },
        "pycharm": {
          "is_executing": true
        },
        "colab": {
          "base_uri": "https://localhost:8080/"
        },
        "id": "n0YsE0fnjt8q",
        "outputId": "3ac2ba19-4cbc-4f07-cf42-143957af90d8"
      }
    },
    {
      "cell_type": "code",
      "source": [
        "# Woorden met een Hoofdletter zoeken in een tekst\n",
        "\n",
        "hoofdletters = r\"[A-Z]\\w+\"\n",
        "woorden_hoofdletter = re.findall(hoofdletters, tekst)\n",
        "print(woorden_hoofdletter)"
      ],
      "execution_count": null,
      "outputs": [
        {
          "output_type": "stream",
          "name": "stdout",
          "text": [
            "['De', 'Kervezee', 'EEP', 'Europese', 'Eenheids', 'Partij', 'Kernpunt', 'Nederlandse', 'Lodewijk', 'De', 'Key', 'Voetbal', 'Europa', 'Na', 'Lodewijk', 'Gertie', 'Hij', 'Als', 'Indologie', 'In', 'Vreemdelingenlegioen', 'Indonesië', 'Hij', 'Indonesiërs', 'Indonesië', 'Want', 'Gertie', 'Lodewijk', 'Om', 'Dat', 'Lodewijk', 'Gertie']\n"
          ]
        }
      ],
      "metadata": {
        "datalore": {
          "node_id": "hKudQhLaV42TekOPTIkKQh",
          "type": "CODE",
          "hide_input_from_viewers": false,
          "hide_output_from_viewers": false,
          "report_properties": {
            "rowId": "pqa2tkgGDJlcOLAfaujzgT",
            "relativeY": 0
          }
        },
        "colab": {
          "base_uri": "https://localhost:8080/"
        },
        "id": "A3ZB3iyejt8q",
        "outputId": "23f280f2-6544-4df2-9e02-e95ac429fbc3"
      }
    },
    {
      "cell_type": "code",
      "source": [
        "# Vinden van getallen in een tekst\n",
        "getallen = r\"\\d+\"\n",
        "getal = re.findall(getallen, tekst)\n",
        "print(getal)"
      ],
      "execution_count": null,
      "outputs": [
        {
          "output_type": "stream",
          "name": "stdout",
          "text": [
            "['1940']\n"
          ]
        }
      ],
      "metadata": {
        "datalore": {
          "node_id": "gO0rNthjBMUN18SDRKoOJQ",
          "type": "CODE",
          "hide_input_from_viewers": false,
          "hide_output_from_viewers": false,
          "report_properties": {
            "rowId": "WRWct031ossuuAOvwX4qiq",
            "relativeY": 0
          }
        },
        "colab": {
          "base_uri": "https://localhost:8080/"
        },
        "id": "FAts_dywjt8r",
        "outputId": "4ec0a18a-688c-434f-c310-28cc900d64c0"
      }
    },
    {
      "cell_type": "markdown",
      "source": [
        "# Tokenisatie"
      ],
      "metadata": {
        "datalore": {
          "node_id": "8kPIH0cOK6ubPVsu9ayn5d",
          "type": "MD",
          "hide_input_from_viewers": false,
          "hide_output_from_viewers": false,
          "report_properties": {
            "rowId": "EoYrmfj2gXtIj6N4RTWpVK",
            "relativeY": 0
          }
        },
        "id": "vcwlqlGRjt8r"
      }
    },
    {
      "cell_type": "code",
      "source": [
        "# Tokenisatie = Het veranderen van een tekst of document in tokens ( kleine stukjes )\n",
        "# Stap 1 - importeren NLTK bibliotheek\n",
        "# word_tokenize : breekt zin op in delen: woorden + symbolen\n",
        "# sent_tokenize : tokenise document in zinnen - geeft de zinnen van een document\n",
        "# regexp_tokenize : tokenize tekst/document op basis van een regex\n",
        "# TweetTokenizer: voor tweet tokenisatie"
      ],
      "execution_count": null,
      "outputs": [],
      "metadata": {
        "datalore": {
          "node_id": "lhfpcPkZWGIKhb8CmbnWdl",
          "type": "CODE",
          "hide_input_from_viewers": false,
          "hide_output_from_viewers": false,
          "report_properties": {
            "rowId": "mckmzY7PkZQfajL1jmhOuo",
            "relativeY": 0
          }
        },
        "id": "RvAeW0Xpjt8s"
      }
    },
    {
      "cell_type": "code",
      "source": [
        "import nltk\n",
        "nltk.download('punkt')\n",
        "from nltk.tokenize import word_tokenize\n",
        "\n",
        "words = word_tokenize(\"HI There!\")\n",
        "print(words)"
      ],
      "execution_count": null,
      "outputs": [
        {
          "output_type": "stream",
          "name": "stdout",
          "text": [
            "['HI', 'There', '!']\n"
          ]
        },
        {
          "output_type": "stream",
          "name": "stderr",
          "text": [
            "[nltk_data] Downloading package punkt to /root/nltk_data...\n",
            "[nltk_data]   Package punkt is already up-to-date!\n"
          ]
        }
      ],
      "metadata": {
        "datalore": {
          "node_id": "BgarBKdm62J8x4ereHq1NN",
          "type": "CODE",
          "hide_input_from_viewers": false,
          "hide_output_from_viewers": false,
          "report_properties": {
            "rowId": "VR8ptt52G5MdeR0QEEewcM",
            "relativeY": 0
          }
        },
        "colab": {
          "base_uri": "https://localhost:8080/"
        },
        "id": "ztPsnSVnjt8s",
        "outputId": "623238a8-5611-46d5-bd7e-a751642c1347"
      }
    },
    {
      "cell_type": "code",
      "source": [
        "from nltk.tokenize import sent_tokenize\n",
        "zinnen = sent_tokenize(tekst) # alle zinnen in een lijst\n",
        "print(zinnen)"
      ],
      "execution_count": null,
      "outputs": [
        {
          "output_type": "stream",
          "name": "stdout",
          "text": [
            "['De volgende dag gaan zij naar Kervezee, die al een programma voor de nieuwe partij, de EEP (Europese Eenheids-Partij), blijkt te hebben opgesteld.', 'Kernpunt is de opheffing van de Nederlandse staat.', 'Lodewijk moet voorzitter worden, het geld voor propaganda en andere zaken moet van iemand anders komen.', 'De naam van Key valt: hij wordt geraadpleegd, voelt er wel voor en wil het geld bijeen krijgen met het organiseren van een voetbalpool, gekoppeld aan een blad ‘Voetbal-Europa’.', 'Na afloop neemt Lodewijk Gertie mee naar een duur kledinghuis.', 'Hij koopt voor zijn vriendin nu twee kostbare mantels en twee paar schoenen; hij stuurt haar ook naar een schoonheidssalon en bezorgt haar een nieuwe bril.', 'Als zij samen wat drinken, vertelt hij dat hij na zijn eindexamen in 1940 de studie Indologie was begonnen, maar die na twee jaar had afgebroken.', 'In de oorlog had hij onder meer in het Vreemdelingenlegioen gediend en was toen als vrijwilliger naar Indonesië gegaan.', 'Hij was luitenant, maar werd wegens corruptie gedegradeerd: hij had contact gehad met de Indonesiërs om melk te verkopen (dat was zijn verklaring); in werkelijkheid had hij over willen lopen om de eerste blanke generaal van Indonesië te worden.', 'Want dat was altijd zijn droom geweest: generaal worden!', \"Gertie's vader bedenkt dat Lodewijk zou kunnen werken bij het knipselbureau, waar hij zelf ook zijn geld verdient.\", 'Om aangenomen te worden moet hij wel zijn gymnasiumdiploma kunnen tonen.', 'Dat ligt bij zijn ouders en onder geen beding wil Lodewijk naar hen toe om het op te halen.', 'Gertie doet het voor hem, maar boekt geen succes: zij zijn niet thuis.']\n"
          ]
        }
      ],
      "metadata": {
        "datalore": {
          "node_id": "eIy2hPbRUEcnydCtPT75c1",
          "type": "CODE",
          "hide_input_from_viewers": false,
          "hide_output_from_viewers": false,
          "report_properties": {
            "rowId": "w5c6kljRw9XJGECa9J0SBu",
            "relativeY": 0
          }
        },
        "colab": {
          "base_uri": "https://localhost:8080/"
        },
        "id": "txJ4JRM6jt8s",
        "outputId": "82e169b8-9360-4c9b-a75f-81b896174010"
      }
    },
    {
      "cell_type": "code",
      "source": [
        "woorden_zin2 = word_tokenize(zinnen[1])\n",
        "print(woorden_zin2)"
      ],
      "execution_count": null,
      "outputs": [
        {
          "output_type": "stream",
          "name": "stdout",
          "text": [
            "['Kernpunt', 'is', 'de', 'opheffing', 'van', 'de', 'Nederlandse', 'staat', '.']\n"
          ]
        }
      ],
      "metadata": {
        "datalore": {
          "node_id": "e0lv5CEgOnZpyzXj7XzrAx",
          "type": "CODE",
          "hide_input_from_viewers": false,
          "hide_output_from_viewers": false,
          "report_properties": {
            "rowId": "aww00FEAYOebIPbBEI1eKq",
            "relativeY": 0
          }
        },
        "colab": {
          "base_uri": "https://localhost:8080/"
        },
        "id": "xwEBCJ99jt8t",
        "outputId": "9be989c7-53b3-477b-eb1f-bcb2b3287344"
      }
    },
    {
      "cell_type": "code",
      "source": [
        "oorlog = re.search(\"oorlog\", tekst)\n",
        "print(oorlog.start(), oorlog.end()) # geeft begin index en eind index van het woord in de tekst."
      ],
      "execution_count": null,
      "outputs": [
        {
          "output_type": "stream",
          "name": "stdout",
          "text": [
            "850 856\n"
          ]
        }
      ],
      "metadata": {
        "datalore": {
          "node_id": "B112aYfiOXWlZSBsiz06B1",
          "type": "CODE",
          "hide_input_from_viewers": false,
          "hide_output_from_viewers": false,
          "report_properties": {
            "rowId": "AP2qzex94gFjmpOBP19SaO",
            "relativeY": 0
          }
        },
        "colab": {
          "base_uri": "https://localhost:8080/"
        },
        "id": "3vA8i84Rjt8t",
        "outputId": "fe36896e-bda4-49b5-98a6-b3c9d3f490be"
      }
    },
    {
      "cell_type": "code",
      "source": [
        "patroon = r\"[.*]\" # alles in rechthoekige haakjes []\n",
        "recht = re.match(patroon, tekst)\n",
        "print(recht)"
      ],
      "execution_count": null,
      "outputs": [
        {
          "output_type": "stream",
          "name": "stdout",
          "text": [
            "None\n"
          ]
        }
      ],
      "metadata": {
        "datalore": {
          "node_id": "B3RyeHiJtklUj3QdSGQg29",
          "type": "CODE",
          "hide_input_from_viewers": false,
          "hide_output_from_viewers": false,
          "report_properties": {
            "rowId": "Ucn2CYCFOZfLcjRmlHYkNA",
            "relativeY": 0
          }
        },
        "colab": {
          "base_uri": "https://localhost:8080/"
        },
        "id": "02CdrXwojt8t",
        "outputId": "1d20c760-bacc-41bf-ccc6-3787a9a770c8"
      }
    },
    {
      "cell_type": "code",
      "source": [
        "# alle woorden en spaces vóór ':' \n",
        "patroon = r\"[\\w\\s]+:\"\n",
        "dp = re.search(patroon, tekst)\n",
        "print(dp)"
      ],
      "execution_count": null,
      "outputs": [
        {
          "output_type": "stream",
          "name": "stdout",
          "text": [
            "<re.Match object; span=(301, 323), match=' De naam van Key valt:'>\n"
          ]
        }
      ],
      "metadata": {
        "datalore": {
          "node_id": "SfMHpLR1Zt6zHwbG8SNi4q",
          "type": "CODE",
          "hide_input_from_viewers": false,
          "hide_output_from_viewers": false,
          "report_properties": {
            "rowId": "F6Y9p86g4DKVRqUW2cwFcu",
            "relativeY": 0
          }
        },
        "colab": {
          "base_uri": "https://localhost:8080/"
        },
        "id": "CPwEFURyjt8t",
        "outputId": "407875fc-eef4-4e20-c0f9-e5174f9463a6"
      }
    },
    {
      "cell_type": "markdown",
      "source": [
        "# Advanced Tokenization"
      ],
      "metadata": {
        "datalore": {
          "node_id": "nPTTIev5JvLF0Q6HH9IhcW",
          "type": "MD",
          "hide_input_from_viewers": false,
          "hide_output_from_viewers": false,
          "report_properties": {
            "rowId": "tX4z04ADSy12OBSIstXSuW",
            "relativeY": 0
          }
        },
        "id": "GPIS-Rgwjt8u"
      }
    },
    {
      "cell_type": "code",
      "source": [
        "from nltk.tokenize import regexp_tokenize\n",
        "my_string = \"SOLDIER #1: Found them? In Mercea? The coconut's tropical!\"\n",
        "#regexp_tokenize(r\"(\\w+|\\?|!)\", my_string)\n",
        "two = regexp_tokenize(my_string,r\"(\\w+|#\\d|\\?|\\!)\")\n",
        "print(two)"
      ],
      "execution_count": null,
      "outputs": [
        {
          "output_type": "stream",
          "name": "stdout",
          "text": [
            "['SOLDIER', '#1', 'Found', 'them', '?', 'In', 'Mercea', '?', 'The', 'coconut', 's', 'tropical', '!']\n"
          ]
        }
      ],
      "metadata": {
        "datalore": {
          "node_id": "NwfwPHkWdPhphm4FM1tS7U",
          "type": "CODE",
          "hide_input_from_viewers": false,
          "hide_output_from_viewers": false,
          "report_properties": {
            "rowId": "c6xt4DUoisITFFjtMEQ58p",
            "relativeY": 0
          }
        },
        "colab": {
          "base_uri": "https://localhost:8080/"
        },
        "id": "uEYJiwlCjt8u",
        "outputId": "4aa8a1be-c30f-458d-808d-3ba7ff8b09fe"
      }
    },
    {
      "cell_type": "markdown",
      "source": [
        "- regexp_tokenisatie - eerst tekst, tweet, document, dan pas patroon.\n",
        "- regexp_tokenize(tekst, patroon)"
      ],
      "metadata": {
        "datalore": {
          "node_id": "VNWHZupy6uRGlEuIYK6Gb1",
          "type": "MD",
          "hide_input_from_viewers": false,
          "hide_output_from_viewers": false,
          "report_properties": {
            "rowId": "uVZSWM9xCQJx5XE8TxGiFc",
            "relativeY": 0
          }
        },
        "id": "DxNN0nH5jt8u"
      }
    },
    {
      "cell_type": "markdown",
      "source": [
        "### Vinden van hashtags en mentions in Tweets"
      ],
      "metadata": {
        "datalore": {
          "node_id": "acNNexJ0WecLlAmMDepUak",
          "type": "MD",
          "hide_input_from_viewers": false,
          "hide_output_from_viewers": false,
          "report_properties": {
            "rowId": "u8ZiBB23MGiYpalnQEoXwQ",
            "relativeY": 0
          }
        },
        "id": "6FroXsnljt8v"
      }
    },
    {
      "cell_type": "code",
      "source": [
        "from nltk.tokenize import regexp_tokenize\n",
        "from nltk.tokenize import TweetTokenizer\n",
        "\n",
        "tweets = [\"This is the best #nlp exercise ive found online! #python\"]\n",
        "\n",
        "pattern2= r\"([@}|\\#]\\w+)\"\n",
        "mentions_hashtags = regexp_tokenize(tweets[-1], pattern2)\n",
        "print(mentions_hashtags)"
      ],
      "execution_count": null,
      "outputs": [
        {
          "output_type": "stream",
          "name": "stdout",
          "text": [
            "['#nlp', '#python']\n"
          ]
        }
      ],
      "metadata": {
        "datalore": {
          "node_id": "b2ch7sl9lKDmE6XbBKqMTa",
          "type": "CODE",
          "hide_input_from_viewers": false,
          "hide_output_from_viewers": false,
          "report_properties": {
            "rowId": "U7yMQbS2tTkH6v5QxjCrv2",
            "relativeY": 0
          }
        },
        "colab": {
          "base_uri": "https://localhost:8080/"
        },
        "id": "sV8F74Ixjt8v",
        "outputId": "67cbe4fe-965b-4d36-b4e7-2147ffa2a533"
      }
    },
    {
      "cell_type": "markdown",
      "source": [
        "Tokenisatie van alle tweets in een lijst."
      ],
      "metadata": {
        "datalore": {
          "node_id": "gwuvSYVk9NKp2xwxi1wR5H",
          "type": "MD",
          "hide_input_from_viewers": false,
          "hide_output_from_viewers": false,
          "report_properties": {
            "rowId": "tWX6MWg6J7XJ65n4jBvDEJ",
            "relativeY": 0
          }
        },
        "id": "DUsFqIt3jt8v"
      }
    },
    {
      "cell_type": "code",
      "source": [
        "from nltk.tokenize import TweetTokenizer"
      ],
      "execution_count": null,
      "outputs": [],
      "metadata": {
        "datalore": {
          "node_id": "zSmIEY1C05HMi1WZcl4k3N",
          "type": "CODE",
          "hide_input_from_viewers": false,
          "hide_output_from_viewers": false,
          "report_properties": {
            "rowId": "BzxHilt8VffvYJJmwyOSNO",
            "relativeY": 0
          }
        },
        "id": "m21vZ3yMjt8v"
      }
    },
    {
      "cell_type": "code",
      "source": [
        "tweets = [\"This is the best #nlp exercise ive found online! #python\"]\n",
        "tknzr = TweetTokenizer()\n",
        "all_tokens = [tknzr.tokenize(t) for t in tweets]\n",
        "print(all_tokens)"
      ],
      "execution_count": null,
      "outputs": [
        {
          "output_type": "stream",
          "name": "stdout",
          "text": [
            "[['This', 'is', 'the', 'best', '#nlp', 'exercise', 'ive', 'found', 'online', '!', '#python']]\n"
          ]
        }
      ],
      "metadata": {
        "datalore": {
          "node_id": "QvzSflbFKTXmtXY5zl32Bj",
          "type": "CODE",
          "hide_input_from_viewers": false,
          "hide_output_from_viewers": false,
          "report_properties": {
            "rowId": "Y0RwQKzfyv299qgLlYkqgI",
            "relativeY": 0
          }
        },
        "colab": {
          "base_uri": "https://localhost:8080/"
        },
        "id": "Fzf_ECcpjt8v",
        "outputId": "a8912039-112d-4f55-dbf2-df951a932930"
      }
    },
    {
      "cell_type": "markdown",
      "source": [
        "## Tokenisation of forgeign language and emojis"
      ],
      "metadata": {
        "datalore": {
          "node_id": "7cdAELqYxNCUjzjTyk4XP4",
          "type": "MD",
          "hide_input_from_viewers": false,
          "hide_output_from_viewers": false,
          "report_properties": {
            "rowId": "ASU2sohF0EBYdPHNa4O5Bq",
            "relativeY": 0
          }
        },
        "id": "89pSY35Vjt8w"
      }
    },
    {
      "cell_type": "code",
      "source": [
        "\n",
        "from nltk.tokenize import regexp_tokenize\n",
        "german_text = \"Wann gehen wir Pizza essen? 🍕 Und fährst du mit Über? 🚕\"\n",
        "\n",
        "capital_words = r\"[A-Z\\Ü]\\w+\"\n",
        "print(regexp_tokenize(german_text, capital_words))\n",
        "\n",
        "\n",
        "emoji = \"['\\U0001F300-\\U0001F5FF'|'\\U0001F600-\\U0001F64F'|'\\U0001F680-\\U0001F6FF'|'\\u2600-\\u26FF\\u2700-\\u27BF']\"\n",
        "regexp_tokenize(german_text, emoji)"
      ],
      "execution_count": null,
      "outputs": [
        {
          "output_type": "stream",
          "name": "stdout",
          "text": [
            "['Wann', 'Pizza', 'Und', 'Über']\n"
          ]
        },
        {
          "output_type": "execute_result",
          "data": {
            "text/plain": [
              "['🍕', '🚕']"
            ]
          },
          "metadata": {},
          "execution_count": 280
        }
      ],
      "metadata": {
        "datalore": {
          "node_id": "yoK8kvZr0fkTvxhR3Y2iq1",
          "type": "CODE",
          "hide_input_from_viewers": false,
          "hide_output_from_viewers": false,
          "report_properties": {
            "rowId": "EruEgnM09WXBNfSbCeNJa7",
            "relativeY": 0
          }
        },
        "colab": {
          "base_uri": "https://localhost:8080/"
        },
        "id": "kdEfhuPjjt8w",
        "outputId": "2f922220-1ea9-4553-827f-b811b2e8dea6"
      }
    },
    {
      "cell_type": "markdown",
      "source": [
        "## Grafisch de woordlengte laten zien dmv van NLTK en Matplotlib"
      ],
      "metadata": {
        "datalore": {
          "node_id": "HPS7xRojzTLtv9oDZQRCHY",
          "type": "MD",
          "hide_input_from_viewers": true,
          "hide_output_from_viewers": false,
          "report_properties": {
            "rowId": "K2CzsCzxGsc91mBDRGaVyx",
            "relativeY": 0
          }
        },
        "id": "FQaQoF7pjt8w"
      }
    },
    {
      "cell_type": "code",
      "source": [
        "import nltk\n",
        "from nltk.tokenize import word_tokenize\n",
        "\n",
        "from matplotlib import pyplot as plt"
      ],
      "execution_count": null,
      "outputs": [],
      "metadata": {
        "datalore": {
          "node_id": "wAV1t0XijLWurc3kABfTIJ",
          "type": "CODE",
          "hide_input_from_viewers": false,
          "hide_output_from_viewers": true,
          "report_properties": {
            "rowId": "7kKKS7xXuyEDBcGNVSjB4W",
            "relativeY": 0
          }
        },
        "id": "rzHf8Xu8jt8w"
      }
    },
    {
      "cell_type": "code",
      "source": [
        "woorden = word_tokenize(\"This is a pretty cool tool for tokenization with nltk\")\n",
        "woord_lengte = [len(woord) for woord in woorden]\n",
        "plt.hist(woord_lengte)\n",
        "plt.show()"
      ],
      "execution_count": null,
      "outputs": [
        {
          "output_type": "display_data",
          "data": {
            "text/plain": [
              "<Figure size 432x288 with 1 Axes>"
            ],
            "image/png": "[encoded data removed]"
          },
          "metadata": {
            "needs_background": "light"
          }
        }
      ],
      "metadata": {
        "datalore": {
          "node_id": "WsYQzh43UFcBCfzUMAymkx",
          "type": "CODE",
          "hide_input_from_viewers": false,
          "hide_output_from_viewers": false,
          "report_properties": {
            "rowId": "4UFKPFEHLCyPXM1Um9iWP2",
            "relativeY": 0
          }
        },
        "colab": {
          "base_uri": "https://localhost:8080/",
          "height": 265
        },
        "id": "6lQPfEVnjt8x",
        "outputId": "5aabc942-7bec-4681-ccaf-c19d09802a99"
      }
    },
    {
      "cell_type": "code",
      "source": [
        "holy_grail = \"\"\"KING ARTHUR : Graham Chapman \n",
        "PATSY : Terry Gilliam \n",
        "GUARD #1 : Michael Palin \n",
        "GUARD #2 : John Cleese \n",
        "MORTICIAN : Eric Idle \n",
        "CUSTOMER : John Cleese \n",
        "DEAD PERSON : ??? \n",
        "DENNIS : Michael Palin \n",
        "WOMAN : Terry Jones \n",
        "BLACK KNIGHT : John Cleese (?) \n",
        "VILLAGER #1 : Eric Idle \n",
        "VILLAGER #2 : Michael Palin \n",
        "SIR BEDEMIR : Terry Jones \n",
        "WITCH : ??? \n",
        "VILLAGER #3 : John Cleese \n",
        "NARRATOR: Michael Palin \n",
        "SIR LAUNCELOT : John Cleese \n",
        "SIR GALAHAD : Michael Palin \n",
        "SIR ROBIN : Eric Idle \n",
        "GOD : ??? \"\"\"\n",
        "\n",
        "zinnen = holy_grail.split('\\n')\n",
        "print(zinnen)"
      ],
      "execution_count": null,
      "outputs": [
        {
          "output_type": "stream",
          "name": "stdout",
          "text": [
            "['KING ARTHUR : Graham Chapman ', 'PATSY : Terry Gilliam ', 'GUARD #1 : Michael Palin ', 'GUARD #2 : John Cleese ', 'MORTICIAN : Eric Idle ', 'CUSTOMER : John Cleese ', 'DEAD PERSON : ??? ', 'DENNIS : Michael Palin ', 'WOMAN : Terry Jones ', 'BLACK KNIGHT : John Cleese (?) ', 'VILLAGER #1 : Eric Idle ', 'VILLAGER #2 : Michael Palin ', 'SIR BEDEMIR : Terry Jones ', 'WITCH : ??? ', 'VILLAGER #3 : John Cleese ', 'NARRATOR: Michael Palin ', 'SIR LAUNCELOT : John Cleese ', 'SIR GALAHAD : Michael Palin ', 'SIR ROBIN : Eric Idle ', 'GOD : ??? ']\n"
          ]
        }
      ],
      "metadata": {
        "datalore": {
          "node_id": "iu88SpSpejKjEPJgEvxBat",
          "type": "CODE",
          "hide_input_from_viewers": false,
          "hide_output_from_viewers": true,
          "report_properties": {
            "rowId": "OXBoL2jzXHAWqz3l4HowMu",
            "relativeY": 0
          }
        },
        "colab": {
          "base_uri": "https://localhost:8080/"
        },
        "id": "qxQbqlvujt8y",
        "outputId": "4ae16b2b-f30f-4b28-e989-d2389d3ba524"
      }
    },
    {
      "cell_type": "code",
      "source": [
        "pattern = \"[A-Z]{2,}(\\s)?(#\\d)?([A-Z]{2,})?:\""
      ],
      "execution_count": null,
      "outputs": [],
      "metadata": {
        "datalore": {
          "node_id": "pNr4k85mZLzLpcWNJZRAZD",
          "type": "CODE",
          "hide_input_from_viewers": true,
          "hide_output_from_viewers": true
        },
        "id": "5nakx_XIjt8y"
      }
    },
    {
      "cell_type": "code",
      "source": [
        "lines = [re.sub(pattern, '', z) for z in zinnen]\n",
        "print(lines)"
      ],
      "execution_count": null,
      "outputs": [
        {
          "output_type": "stream",
          "name": "stdout",
          "text": [
            "['KING  Graham Chapman ', ' Terry Gilliam ', 'GUARD #1 : Michael Palin ', 'GUARD #2 : John Cleese ', ' Eric Idle ', ' John Cleese ', 'DEAD  ??? ', ' Michael Palin ', ' Terry Jones ', 'BLACK  John Cleese (?) ', 'VILLAGER #1 : Eric Idle ', 'VILLAGER #2 : Michael Palin ', 'SIR  Terry Jones ', ' ??? ', 'VILLAGER #3 : John Cleese ', ' Michael Palin ', 'SIR  John Cleese ', 'SIR  Michael Palin ', 'SIR  Eric Idle ', ' ??? ']\n"
          ]
        }
      ],
      "metadata": {
        "datalore": {
          "node_id": "pxRvS69sy8syuX0d5sepWv",
          "type": "CODE",
          "hide_input_from_viewers": false,
          "hide_output_from_viewers": false,
          "report_properties": {
            "rowId": "OIfwB6NSWJNAThAXaJ05VT",
            "relativeY": 0
          }
        },
        "colab": {
          "base_uri": "https://localhost:8080/"
        },
        "id": "xAF3MTIKjt8z",
        "outputId": "ce6e7b3f-b3e9-4317-8327-db537efa6bf8"
      }
    },
    {
      "cell_type": "code",
      "source": [
        "tokenized_lines = [regexp_tokenize(s, r\"\\w+\") for s in lines]\n",
        "print(tokenized_lines)"
      ],
      "execution_count": null,
      "outputs": [
        {
          "output_type": "stream",
          "name": "stdout",
          "text": [
            "[['KING', 'Graham', 'Chapman'], ['Terry', 'Gilliam'], ['GUARD', '1', 'Michael', 'Palin'], ['GUARD', '2', 'John', 'Cleese'], ['Eric', 'Idle'], ['John', 'Cleese'], ['DEAD'], ['Michael', 'Palin'], ['Terry', 'Jones'], ['BLACK', 'John', 'Cleese'], ['VILLAGER', '1', 'Eric', 'Idle'], ['VILLAGER', '2', 'Michael', 'Palin'], ['SIR', 'Terry', 'Jones'], [], ['VILLAGER', '3', 'John', 'Cleese'], ['Michael', 'Palin'], ['SIR', 'John', 'Cleese'], ['SIR', 'Michael', 'Palin'], ['SIR', 'Eric', 'Idle'], []]\n"
          ]
        }
      ],
      "metadata": {
        "datalore": {
          "node_id": "1eSBSGfmISP0FS0EFcRXnK",
          "type": "CODE",
          "hide_input_from_viewers": false,
          "hide_output_from_viewers": false,
          "report_properties": {
            "rowId": "03shOn5M5b38aWpHNXYWKe",
            "relativeY": 0
          }
        },
        "colab": {
          "base_uri": "https://localhost:8080/"
        },
        "id": "rR1B8KCnjt80",
        "outputId": "dc3ef6ab-3371-4709-adbf-5ede40f3dc1c"
      }
    },
    {
      "cell_type": "code",
      "source": [
        "line_num_words = [len(t_line) for t_line in tokenized_lines]\n",
        "print(line_num_words)"
      ],
      "execution_count": null,
      "outputs": [
        {
          "output_type": "stream",
          "name": "stdout",
          "text": [
            "[3, 2, 4, 4, 2, 2, 1, 2, 2, 3, 4, 4, 3, 0, 4, 2, 3, 3, 3, 0]\n"
          ]
        }
      ],
      "metadata": {
        "datalore": {
          "node_id": "hs8EQtMj8ZSXyrwSVhngUB",
          "type": "CODE",
          "hide_input_from_viewers": false,
          "hide_output_from_viewers": false,
          "report_properties": {
            "rowId": "jsAI6wLSlSuUNiGhdk4BsB",
            "relativeY": 0
          }
        },
        "colab": {
          "base_uri": "https://localhost:8080/"
        },
        "id": "0SF0j5y8jt80",
        "outputId": "ee0b1905-55d9-40e4-ec11-254327e172c3"
      }
    },
    {
      "cell_type": "code",
      "source": [
        "plt.hist(line_num_words)\n",
        "plt.show()"
      ],
      "execution_count": null,
      "outputs": [
        {
          "output_type": "display_data",
          "data": {
            "text/plain": [
              "<Figure size 432x288 with 1 Axes>"
            ],
            "image/png": "[encoded data removed]"
          },
          "metadata": {
            "needs_background": "light"
          }
        }
      ],
      "metadata": {
        "datalore": {
          "node_id": "1K2YES5tpVrr4b2NVaLd0U",
          "type": "CODE",
          "hide_input_from_viewers": false,
          "hide_output_from_viewers": false,
          "report_properties": {
            "rowId": "LzIMD2B37TLvD67RihJcRi",
            "relativeY": 0
          }
        },
        "colab": {
          "base_uri": "https://localhost:8080/",
          "height": 265
        },
        "id": "QZVYovoqjt80",
        "outputId": "54a830ac-dfdc-4208-ce98-00efd2d658f4"
      }
    },
    {
      "cell_type": "markdown",
      "source": [
        "# Bag-Of_Words"
      ],
      "metadata": {
        "id": "yfOVFIDUkOrc"
      }
    },
    {
      "cell_type": "code",
      "source": [
        "from nltk.tokenize import word_tokenize\n",
        "from collections import Counter"
      ],
      "metadata": {
        "id": "BR08-3vAkNn5"
      },
      "execution_count": null,
      "outputs": []
    },
    {
      "cell_type": "code",
      "source": [
        "tokens = word_tokenize(tekst)\n",
        "print(tokens)"
      ],
      "metadata": {
        "colab": {
          "base_uri": "https://localhost:8080/"
        },
        "id": "geEmdMprkh0T",
        "outputId": "68c2520d-ea21-4bee-d5c5-d3e41bdfeea5"
      },
      "execution_count": null,
      "outputs": [
        {
          "output_type": "stream",
          "name": "stdout",
          "text": [
            "['De', 'volgende', 'dag', 'gaan', 'zij', 'naar', 'Kervezee', ',', 'die', 'al', 'een', 'programma', 'voor', 'de', 'nieuwe', 'partij', ',', 'de', 'EEP', '(', 'Europese', 'Eenheids-Partij', ')', ',', 'blijkt', 'te', 'hebben', 'opgesteld', '.', 'Kernpunt', 'is', 'de', 'opheffing', 'van', 'de', 'Nederlandse', 'staat', '.', 'Lodewijk', 'moet', 'voorzitter', 'worden', ',', 'het', 'geld', 'voor', 'propaganda', 'en', 'andere', 'zaken', 'moet', 'van', 'iemand', 'anders', 'komen', '.', 'De', 'naam', 'van', 'Key', 'valt', ':', 'hij', 'wordt', 'geraadpleegd', ',', 'voelt', 'er', 'wel', 'voor', 'en', 'wil', 'het', 'geld', 'bijeen', 'krijgen', 'met', 'het', 'organiseren', 'van', 'een', 'voetbalpool', ',', 'gekoppeld', 'aan', 'een', 'blad', '‘', 'Voetbal-Europa', '’', '.', 'Na', 'afloop', 'neemt', 'Lodewijk', 'Gertie', 'mee', 'naar', 'een', 'duur', 'kledinghuis', '.', 'Hij', 'koopt', 'voor', 'zijn', 'vriendin', 'nu', 'twee', 'kostbare', 'mantels', 'en', 'twee', 'paar', 'schoenen', ';', 'hij', 'stuurt', 'haar', 'ook', 'naar', 'een', 'schoonheidssalon', 'en', 'bezorgt', 'haar', 'een', 'nieuwe', 'bril', '.', 'Als', 'zij', 'samen', 'wat', 'drinken', ',', 'vertelt', 'hij', 'dat', 'hij', 'na', 'zijn', 'eindexamen', 'in', '1940', 'de', 'studie', 'Indologie', 'was', 'begonnen', ',', 'maar', 'die', 'na', 'twee', 'jaar', 'had', 'afgebroken', '.', 'In', 'de', 'oorlog', 'had', 'hij', 'onder', 'meer', 'in', 'het', 'Vreemdelingenlegioen', 'gediend', 'en', 'was', 'toen', 'als', 'vrijwilliger', 'naar', 'Indonesië', 'gegaan', '.', 'Hij', 'was', 'luitenant', ',', 'maar', 'werd', 'wegens', 'corruptie', 'gedegradeerd', ':', 'hij', 'had', 'contact', 'gehad', 'met', 'de', 'Indonesiërs', 'om', 'melk', 'te', 'verkopen', '(', 'dat', 'was', 'zijn', 'verklaring', ')', ';', 'in', 'werkelijkheid', 'had', 'hij', 'over', 'willen', 'lopen', 'om', 'de', 'eerste', 'blanke', 'generaal', 'van', 'Indonesië', 'te', 'worden', '.', 'Want', 'dat', 'was', 'altijd', 'zijn', 'droom', 'geweest', ':', 'generaal', 'worden', '!', 'Gertie', \"'s\", 'vader', 'bedenkt', 'dat', 'Lodewijk', 'zou', 'kunnen', 'werken', 'bij', 'het', 'knipselbureau', ',', 'waar', 'hij', 'zelf', 'ook', 'zijn', 'geld', 'verdient', '.', 'Om', 'aangenomen', 'te', 'worden', 'moet', 'hij', 'wel', 'zijn', 'gymnasiumdiploma', 'kunnen', 'tonen', '.', 'Dat', 'ligt', 'bij', 'zijn', 'ouders', 'en', 'onder', 'geen', 'beding', 'wil', 'Lodewijk', 'naar', 'hen', 'toe', 'om', 'het', 'op', 'te', 'halen', '.', 'Gertie', 'doet', 'het', 'voor', 'hem', ',', 'maar', 'boekt', 'geen', 'succes', ':', 'zij', 'zijn', 'niet', 'thuis', '.']\n"
          ]
        }
      ]
    },
    {
      "cell_type": "code",
      "source": [
        "lower = [token.lower() for token in tokens]\n",
        "print(lower)"
      ],
      "metadata": {
        "colab": {
          "base_uri": "https://localhost:8080/"
        },
        "id": "zPZvTWjhluAT",
        "outputId": "7241fee7-3e31-4bd3-efd1-a67fe31863e6"
      },
      "execution_count": null,
      "outputs": [
        {
          "output_type": "stream",
          "name": "stdout",
          "text": [
            "['de', 'volgende', 'dag', 'gaan', 'zij', 'naar', 'kervezee', ',', 'die', 'al', 'een', 'programma', 'voor', 'de', 'nieuwe', 'partij', ',', 'de', 'eep', '(', 'europese', 'eenheids-partij', ')', ',', 'blijkt', 'te', 'hebben', 'opgesteld', '.', 'kernpunt', 'is', 'de', 'opheffing', 'van', 'de', 'nederlandse', 'staat', '.', 'lodewijk', 'moet', 'voorzitter', 'worden', ',', 'het', 'geld', 'voor', 'propaganda', 'en', 'andere', 'zaken', 'moet', 'van', 'iemand', 'anders', 'komen', '.', 'de', 'naam', 'van', 'key', 'valt', ':', 'hij', 'wordt', 'geraadpleegd', ',', 'voelt', 'er', 'wel', 'voor', 'en', 'wil', 'het', 'geld', 'bijeen', 'krijgen', 'met', 'het', 'organiseren', 'van', 'een', 'voetbalpool', ',', 'gekoppeld', 'aan', 'een', 'blad', '‘', 'voetbal-europa', '’', '.', 'na', 'afloop', 'neemt', 'lodewijk', 'gertie', 'mee', 'naar', 'een', 'duur', 'kledinghuis', '.', 'hij', 'koopt', 'voor', 'zijn', 'vriendin', 'nu', 'twee', 'kostbare', 'mantels', 'en', 'twee', 'paar', 'schoenen', ';', 'hij', 'stuurt', 'haar', 'ook', 'naar', 'een', 'schoonheidssalon', 'en', 'bezorgt', 'haar', 'een', 'nieuwe', 'bril', '.', 'als', 'zij', 'samen', 'wat', 'drinken', ',', 'vertelt', 'hij', 'dat', 'hij', 'na', 'zijn', 'eindexamen', 'in', '1940', 'de', 'studie', 'indologie', 'was', 'begonnen', ',', 'maar', 'die', 'na', 'twee', 'jaar', 'had', 'afgebroken', '.', 'in', 'de', 'oorlog', 'had', 'hij', 'onder', 'meer', 'in', 'het', 'vreemdelingenlegioen', 'gediend', 'en', 'was', 'toen', 'als', 'vrijwilliger', 'naar', 'indonesië', 'gegaan', '.', 'hij', 'was', 'luitenant', ',', 'maar', 'werd', 'wegens', 'corruptie', 'gedegradeerd', ':', 'hij', 'had', 'contact', 'gehad', 'met', 'de', 'indonesiërs', 'om', 'melk', 'te', 'verkopen', '(', 'dat', 'was', 'zijn', 'verklaring', ')', ';', 'in', 'werkelijkheid', 'had', 'hij', 'over', 'willen', 'lopen', 'om', 'de', 'eerste', 'blanke', 'generaal', 'van', 'indonesië', 'te', 'worden', '.', 'want', 'dat', 'was', 'altijd', 'zijn', 'droom', 'geweest', ':', 'generaal', 'worden', '!', 'gertie', \"'s\", 'vader', 'bedenkt', 'dat', 'lodewijk', 'zou', 'kunnen', 'werken', 'bij', 'het', 'knipselbureau', ',', 'waar', 'hij', 'zelf', 'ook', 'zijn', 'geld', 'verdient', '.', 'om', 'aangenomen', 'te', 'worden', 'moet', 'hij', 'wel', 'zijn', 'gymnasiumdiploma', 'kunnen', 'tonen', '.', 'dat', 'ligt', 'bij', 'zijn', 'ouders', 'en', 'onder', 'geen', 'beding', 'wil', 'lodewijk', 'naar', 'hen', 'toe', 'om', 'het', 'op', 'te', 'halen', '.', 'gertie', 'doet', 'het', 'voor', 'hem', ',', 'maar', 'boekt', 'geen', 'succes', ':', 'zij', 'zijn', 'niet', 'thuis', '.']\n"
          ]
        }
      ]
    },
    {
      "cell_type": "code",
      "source": [
        "bow = Counter(lower)\n",
        "print(bow)"
      ],
      "metadata": {
        "colab": {
          "base_uri": "https://localhost:8080/"
        },
        "id": "yOo6sGiil0pc",
        "outputId": "e1a4c026-5f86-4c91-8654-c83a0788c65a"
      },
      "execution_count": null,
      "outputs": [
        {
          "output_type": "stream",
          "name": "stdout",
          "text": [
            "Counter({'.': 13, ',': 11, 'hij': 11, 'de': 10, 'zijn': 8, 'het': 7, 'een': 6, 'en': 6, 'naar': 5, 'voor': 5, 'te': 5, 'van': 5, 'dat': 5, 'was': 5, 'lodewijk': 4, 'worden': 4, ':': 4, 'in': 4, 'had': 4, 'om': 4, 'zij': 3, 'moet': 3, 'geld': 3, 'na': 3, 'gertie': 3, 'twee': 3, 'maar': 3, 'die': 2, 'nieuwe': 2, '(': 2, ')': 2, 'wel': 2, 'wil': 2, 'met': 2, ';': 2, 'haar': 2, 'ook': 2, 'als': 2, 'onder': 2, 'indonesië': 2, 'generaal': 2, 'kunnen': 2, 'bij': 2, 'geen': 2, 'volgende': 1, 'dag': 1, 'gaan': 1, 'kervezee': 1, 'al': 1, 'programma': 1, 'partij': 1, 'eep': 1, 'europese': 1, 'eenheids-partij': 1, 'blijkt': 1, 'hebben': 1, 'opgesteld': 1, 'kernpunt': 1, 'is': 1, 'opheffing': 1, 'nederlandse': 1, 'staat': 1, 'voorzitter': 1, 'propaganda': 1, 'andere': 1, 'zaken': 1, 'iemand': 1, 'anders': 1, 'komen': 1, 'naam': 1, 'key': 1, 'valt': 1, 'wordt': 1, 'geraadpleegd': 1, 'voelt': 1, 'er': 1, 'bijeen': 1, 'krijgen': 1, 'organiseren': 1, 'voetbalpool': 1, 'gekoppeld': 1, 'aan': 1, 'blad': 1, '‘': 1, 'voetbal-europa': 1, '’': 1, 'afloop': 1, 'neemt': 1, 'mee': 1, 'duur': 1, 'kledinghuis': 1, 'koopt': 1, 'vriendin': 1, 'nu': 1, 'kostbare': 1, 'mantels': 1, 'paar': 1, 'schoenen': 1, 'stuurt': 1, 'schoonheidssalon': 1, 'bezorgt': 1, 'bril': 1, 'samen': 1, 'wat': 1, 'drinken': 1, 'vertelt': 1, 'eindexamen': 1, '1940': 1, 'studie': 1, 'indologie': 1, 'begonnen': 1, 'jaar': 1, 'afgebroken': 1, 'oorlog': 1, 'meer': 1, 'vreemdelingenlegioen': 1, 'gediend': 1, 'toen': 1, 'vrijwilliger': 1, 'gegaan': 1, 'luitenant': 1, 'werd': 1, 'wegens': 1, 'corruptie': 1, 'gedegradeerd': 1, 'contact': 1, 'gehad': 1, 'indonesiërs': 1, 'melk': 1, 'verkopen': 1, 'verklaring': 1, 'werkelijkheid': 1, 'over': 1, 'willen': 1, 'lopen': 1, 'eerste': 1, 'blanke': 1, 'want': 1, 'altijd': 1, 'droom': 1, 'geweest': 1, '!': 1, \"'s\": 1, 'vader': 1, 'bedenkt': 1, 'zou': 1, 'werken': 1, 'knipselbureau': 1, 'waar': 1, 'zelf': 1, 'verdient': 1, 'aangenomen': 1, 'gymnasiumdiploma': 1, 'tonen': 1, 'ligt': 1, 'ouders': 1, 'beding': 1, 'hen': 1, 'toe': 1, 'op': 1, 'halen': 1, 'doet': 1, 'hem': 1, 'boekt': 1, 'succes': 1, 'niet': 1, 'thuis': 1})\n"
          ]
        }
      ]
    },
    {
      "cell_type": "code",
      "source": [
        "bow.most_common(3)"
      ],
      "metadata": {
        "colab": {
          "base_uri": "https://localhost:8080/"
        },
        "id": "ivUBU4ajmEeQ",
        "outputId": "cf815940-0997-48b3-ebc9-7b81e8273dd6"
      },
      "execution_count": null,
      "outputs": [
        {
          "output_type": "execute_result",
          "data": {
            "text/plain": [
              "[('.', 13), (',', 11), ('hij', 11)]"
            ]
          },
          "metadata": {},
          "execution_count": 293
        }
      ]
    },
    {
      "cell_type": "code",
      "source": [
        "\n",
        "import nltk\n",
        "nltk.download('stopwords')"
      ],
      "metadata": {
        "colab": {
          "base_uri": "https://localhost:8080/"
        },
        "id": "_UOiIhe7nc5k",
        "outputId": "15e9134a-6bb5-46c8-f2cd-04355f4b28c5"
      },
      "execution_count": null,
      "outputs": [
        {
          "output_type": "stream",
          "name": "stderr",
          "text": [
            "[nltk_data] Downloading package stopwords to /root/nltk_data...\n",
            "[nltk_data]   Package stopwords is already up-to-date!\n"
          ]
        },
        {
          "output_type": "execute_result",
          "data": {
            "text/plain": [
              "True"
            ]
          },
          "metadata": {},
          "execution_count": 294
        }
      ]
    },
    {
      "cell_type": "code",
      "source": [
        "text = \"\"\"The cat is in the box. The cat likes the box. The box is over the cat.\"\"\"\n",
        "text1 = \"\"\"De kat is in de doos. De kat vindt de doos leuk. De doos is over over kat.\"\"\""
      ],
      "metadata": {
        "id": "9WohRj0mnuVO"
      },
      "execution_count": null,
      "outputs": []
    },
    {
      "cell_type": "code",
      "source": [
        "tokens = [ w for w in word_tokenize(text.lower()) if w.isalpha()]"
      ],
      "metadata": {
        "id": "taEhR-Ggn-Bt"
      },
      "execution_count": null,
      "outputs": []
    },
    {
      "cell_type": "code",
      "source": [
        "print(tokens)"
      ],
      "metadata": {
        "colab": {
          "base_uri": "https://localhost:8080/"
        },
        "id": "KIloTvTioHiZ",
        "outputId": "eccbb94a-5750-40f0-c4b0-4a3dcf3a40cc"
      },
      "execution_count": null,
      "outputs": [
        {
          "output_type": "stream",
          "name": "stdout",
          "text": [
            "['the', 'cat', 'is', 'in', 'the', 'box', 'the', 'cat', 'likes', 'the', 'box', 'the', 'box', 'is', 'over', 'the', 'cat']\n"
          ]
        }
      ]
    },
    {
      "cell_type": "code",
      "source": [
        "no_stops = [ t for t in tokens if t not in stopwords.words('english')]"
      ],
      "metadata": {
        "id": "HlkwOPk_oKHq"
      },
      "execution_count": null,
      "outputs": []
    },
    {
      "cell_type": "code",
      "source": [
        "print(no_stops)"
      ],
      "metadata": {
        "colab": {
          "base_uri": "https://localhost:8080/"
        },
        "id": "OXtH70PxorCg",
        "outputId": "c7ed2663-2da6-478d-9604-6de4aae0dab1"
      },
      "execution_count": null,
      "outputs": [
        {
          "output_type": "stream",
          "name": "stdout",
          "text": [
            "['cat', 'box', 'cat', 'likes', 'box', 'box', 'cat']\n"
          ]
        }
      ]
    },
    {
      "cell_type": "code",
      "source": [
        "bow = Counter(no_stops)\n",
        "print(bow)"
      ],
      "metadata": {
        "colab": {
          "base_uri": "https://localhost:8080/"
        },
        "id": "eiH079Etoy8X",
        "outputId": "7a16c74d-b601-4907-c602-b2704101d7bb"
      },
      "execution_count": null,
      "outputs": [
        {
          "output_type": "stream",
          "name": "stdout",
          "text": [
            "Counter({'cat': 3, 'box': 3, 'likes': 1})\n"
          ]
        }
      ]
    },
    {
      "cell_type": "code",
      "source": [
        "tokens = [ w for w in word_tokenize(text1.lower()) if w.isalpha()]\n",
        "no_stops = [ t for t in tokens if t not in stopwords.words('dutch')]\n",
        "print(no_stops)"
      ],
      "metadata": {
        "colab": {
          "base_uri": "https://localhost:8080/"
        },
        "id": "79AfOZFUpSGw",
        "outputId": "37546173-8352-4a6b-a7f6-a4e926e7a9e6"
      },
      "execution_count": null,
      "outputs": [
        {
          "output_type": "stream",
          "name": "stdout",
          "text": [
            "['kat', 'doos', 'kat', 'vindt', 'doos', 'leuk', 'doos', 'kat']\n"
          ]
        }
      ]
    },
    {
      "cell_type": "code",
      "source": [
        "bow = Counter(no_stops)\n",
        "print(bow)"
      ],
      "metadata": {
        "colab": {
          "base_uri": "https://localhost:8080/"
        },
        "id": "mFxgAd-Npkpb",
        "outputId": "047a5c1a-281b-4b64-f8fe-8205115172c7"
      },
      "execution_count": null,
      "outputs": [
        {
          "output_type": "stream",
          "name": "stdout",
          "text": [
            "Counter({'kat': 3, 'doos': 3, 'vindt': 1, 'leuk': 1})\n"
          ]
        }
      ]
    },
    {
      "cell_type": "code",
      "source": [
        "from nltk.stem import WordNetLemmatizer\n",
        "import nltk\n",
        "nltk.download(\"wordnet\")"
      ],
      "metadata": {
        "colab": {
          "base_uri": "https://localhost:8080/"
        },
        "id": "XPQTn3f-rTM9",
        "outputId": "a86689a7-1f0b-4654-c98a-c4c060de811e"
      },
      "execution_count": null,
      "outputs": [
        {
          "output_type": "stream",
          "name": "stderr",
          "text": [
            "[nltk_data] Downloading package wordnet to /root/nltk_data...\n",
            "[nltk_data]   Package wordnet is already up-to-date!\n"
          ]
        },
        {
          "output_type": "execute_result",
          "data": {
            "text/plain": [
              "True"
            ]
          },
          "metadata": {},
          "execution_count": 303
        }
      ]
    },
    {
      "cell_type": "code",
      "source": [
        "text = \"\"\"The cat is in the box. The cat likes the box. The box is over the cat.\"\"\""
      ],
      "metadata": {
        "id": "zmxgjS8ps37o"
      },
      "execution_count": null,
      "outputs": []
    },
    {
      "cell_type": "code",
      "source": [
        "tokens = [ w for w in word_tokenize(text.lower()) if w.isalpha()]"
      ],
      "metadata": {
        "id": "JO9M1rT_s7OH"
      },
      "execution_count": null,
      "outputs": []
    },
    {
      "cell_type": "code",
      "source": [
        "alpha_only = [t for t in tokens if t.isalpha()]\n",
        "print(alpha_only)"
      ],
      "metadata": {
        "colab": {
          "base_uri": "https://localhost:8080/"
        },
        "id": "qeWNmk0prv1r",
        "outputId": "ecc40027-cc3a-4859-c6bc-8d5f41e6c7b6"
      },
      "execution_count": null,
      "outputs": [
        {
          "output_type": "stream",
          "name": "stdout",
          "text": [
            "['the', 'cat', 'is', 'in', 'the', 'box', 'the', 'cat', 'likes', 'the', 'box', 'the', 'box', 'is', 'over', 'the', 'cat']\n"
          ]
        }
      ]
    },
    {
      "cell_type": "code",
      "source": [
        "no_stops = [ t for t in alpha_only if t not in stopwords.words('english')]\n",
        "print(no_stops)"
      ],
      "metadata": {
        "colab": {
          "base_uri": "https://localhost:8080/"
        },
        "id": "63GySlaqsCtx",
        "outputId": "fc62bfb6-9597-4ac9-e744-fe6f3cd7bcb4"
      },
      "execution_count": null,
      "outputs": [
        {
          "output_type": "stream",
          "name": "stdout",
          "text": [
            "['cat', 'box', 'cat', 'likes', 'box', 'box', 'cat']\n"
          ]
        }
      ]
    },
    {
      "cell_type": "code",
      "source": [
        "wordnet_lemmatizer = WordNetLemmatizer()"
      ],
      "metadata": {
        "id": "dkY7C96LsNUn"
      },
      "execution_count": null,
      "outputs": []
    },
    {
      "cell_type": "code",
      "source": [
        "lemmatized = [wordnet_lemmatizer.lemmatize(t) for t in no_stops]\n",
        "print(lemmatized)"
      ],
      "metadata": {
        "colab": {
          "base_uri": "https://localhost:8080/"
        },
        "id": "uGYpUcPlsQqW",
        "outputId": "e6165897-4321-4c09-e85f-617a9766d175"
      },
      "execution_count": null,
      "outputs": [
        {
          "output_type": "stream",
          "name": "stdout",
          "text": [
            "['cat', 'box', 'cat', 'like', 'box', 'box', 'cat']\n"
          ]
        }
      ]
    },
    {
      "cell_type": "code",
      "source": [
        "bow = Counter(lemmatized)"
      ],
      "metadata": {
        "id": "b6G8ldMPtBSn"
      },
      "execution_count": null,
      "outputs": []
    },
    {
      "cell_type": "code",
      "source": [
        "print(bow.most_common(10))"
      ],
      "metadata": {
        "colab": {
          "base_uri": "https://localhost:8080/"
        },
        "id": "hUOTDst9tEo1",
        "outputId": "6a934b10-f37d-40be-9c06-d95d16cd2924"
      },
      "execution_count": null,
      "outputs": [
        {
          "output_type": "stream",
          "name": "stdout",
          "text": [
            "[('cat', 3), ('box', 3), ('like', 1)]\n"
          ]
        }
      ]
    },
    {
      "cell_type": "markdown",
      "source": [
        "# GENSIM"
      ],
      "metadata": {
        "id": "vHvlxiv2vDai"
      }
    },
    {
      "cell_type": "code",
      "source": [
        "from gensim.corpora.dictionary import Dictionary"
      ],
      "metadata": {
        "id": "2uzECOi4vBoN"
      },
      "execution_count": null,
      "outputs": []
    },
    {
      "cell_type": "code",
      "source": [
        "from nltk.tokenize import word_tokenize\n"
      ],
      "metadata": {
        "id": "lvXrNxwh9MKz"
      },
      "execution_count": null,
      "outputs": []
    },
    {
      "cell_type": "code",
      "source": [
        "import nltk\n",
        "nltk.download('stopwords')"
      ],
      "metadata": {
        "colab": {
          "base_uri": "https://localhost:8080/"
        },
        "id": "FG37DORvAhWw",
        "outputId": "4e905f5a-83e2-48f1-8fad-4e0d5cf2ca91"
      },
      "execution_count": null,
      "outputs": [
        {
          "output_type": "stream",
          "name": "stderr",
          "text": [
            "[nltk_data] Downloading package stopwords to /root/nltk_data...\n",
            "[nltk_data]   Package stopwords is already up-to-date!\n"
          ]
        },
        {
          "output_type": "execute_result",
          "data": {
            "text/plain": [
              "True"
            ]
          },
          "metadata": {},
          "execution_count": 314
        }
      ]
    },
    {
      "cell_type": "code",
      "source": [
        "docs = [\"Each time we gather to inaugurate a President we bear witness to the enduring strength of our Constitution.\", \" We affirm the promise of our democracy.  We recall that what binds this nation together is not the colors of our skin or the tenets of our faith or the origins of our names.\", \" What makes us exceptional -- what makes us American -- is our allegiance to an idea articulated in a declaration made more than two centuries ago: We hold these truths to be self-evident, that all men are created equal; that they are endowed by their Creator with certain unalienable rights; that among these are life, liberty, and the pursuit of happiness.\"]"
      ],
      "metadata": {
        "id": "nR0EZrY69RO6"
      },
      "execution_count": null,
      "outputs": []
    },
    {
      "cell_type": "markdown",
      "source": [],
      "metadata": {
        "id": "zmsWRZ0C-B-8"
      }
    },
    {
      "cell_type": "code",
      "source": [
        "tokenized_docs = [word_tokenize(doc.lower()) for doc in docs]"
      ],
      "metadata": {
        "id": "SCduzhvf9goZ"
      },
      "execution_count": null,
      "outputs": []
    },
    {
      "cell_type": "code",
      "source": [
        "print(tokenized_docs)"
      ],
      "metadata": {
        "colab": {
          "base_uri": "https://localhost:8080/"
        },
        "id": "sqk9iZ-a-i3Q",
        "outputId": "3ecb1f2d-6583-4b84-8f87-e604eaf9d20e"
      },
      "execution_count": null,
      "outputs": [
        {
          "output_type": "stream",
          "name": "stdout",
          "text": [
            "[['each', 'time', 'we', 'gather', 'to', 'inaugurate', 'a', 'president', 'we', 'bear', 'witness', 'to', 'the', 'enduring', 'strength', 'of', 'our', 'constitution', '.'], ['we', 'affirm', 'the', 'promise', 'of', 'our', 'democracy', '.', 'we', 'recall', 'that', 'what', 'binds', 'this', 'nation', 'together', 'is', 'not', 'the', 'colors', 'of', 'our', 'skin', 'or', 'the', 'tenets', 'of', 'our', 'faith', 'or', 'the', 'origins', 'of', 'our', 'names', '.'], ['what', 'makes', 'us', 'exceptional', '--', 'what', 'makes', 'us', 'american', '--', 'is', 'our', 'allegiance', 'to', 'an', 'idea', 'articulated', 'in', 'a', 'declaration', 'made', 'more', 'than', 'two', 'centuries', 'ago', ':', 'we', 'hold', 'these', 'truths', 'to', 'be', 'self-evident', ',', 'that', 'all', 'men', 'are', 'created', 'equal', ';', 'that', 'they', 'are', 'endowed', 'by', 'their', 'creator', 'with', 'certain', 'unalienable', 'rights', ';', 'that', 'among', 'these', 'are', 'life', ',', 'liberty', ',', 'and', 'the', 'pursuit', 'of', 'happiness', '.']]\n"
          ]
        }
      ]
    },
    {
      "cell_type": "code",
      "source": [
        "dictionary = Dictionary(tokenized_docs)\n",
        "print(dictionary.token2id) # all tokens and their id's"
      ],
      "metadata": {
        "colab": {
          "base_uri": "https://localhost:8080/"
        },
        "id": "-_MNBJGl-6jr",
        "outputId": "e26afcb0-6746-4188-f7df-b97b582b556e"
      },
      "execution_count": null,
      "outputs": [
        {
          "output_type": "stream",
          "name": "stdout",
          "text": [
            "{'.': 0, 'a': 1, 'bear': 2, 'constitution': 3, 'each': 4, 'enduring': 5, 'gather': 6, 'inaugurate': 7, 'of': 8, 'our': 9, 'president': 10, 'strength': 11, 'the': 12, 'time': 13, 'to': 14, 'we': 15, 'witness': 16, 'affirm': 17, 'binds': 18, 'colors': 19, 'democracy': 20, 'faith': 21, 'is': 22, 'names': 23, 'nation': 24, 'not': 25, 'or': 26, 'origins': 27, 'promise': 28, 'recall': 29, 'skin': 30, 'tenets': 31, 'that': 32, 'this': 33, 'together': 34, 'what': 35, ',': 36, '--': 37, ':': 38, ';': 39, 'ago': 40, 'all': 41, 'allegiance': 42, 'american': 43, 'among': 44, 'an': 45, 'and': 46, 'are': 47, 'articulated': 48, 'be': 49, 'by': 50, 'centuries': 51, 'certain': 52, 'created': 53, 'creator': 54, 'declaration': 55, 'endowed': 56, 'equal': 57, 'exceptional': 58, 'happiness': 59, 'hold': 60, 'idea': 61, 'in': 62, 'liberty': 63, 'life': 64, 'made': 65, 'makes': 66, 'men': 67, 'more': 68, 'pursuit': 69, 'rights': 70, 'self-evident': 71, 'than': 72, 'their': 73, 'these': 74, 'they': 75, 'truths': 76, 'two': 77, 'unalienable': 78, 'us': 79, 'with': 80}\n"
          ]
        }
      ]
    },
    {
      "cell_type": "code",
      "source": [
        "president_id = dictionary.token2id.get(\"president\")\n",
        "print(president_id)"
      ],
      "metadata": {
        "colab": {
          "base_uri": "https://localhost:8080/"
        },
        "id": "VYWc6ANvE-BN",
        "outputId": "5db25ab2-71e6-4f56-8f85-ec5fbd68f7e8"
      },
      "execution_count": null,
      "outputs": [
        {
          "output_type": "stream",
          "name": "stdout",
          "text": [
            "10\n"
          ]
        }
      ]
    },
    {
      "cell_type": "code",
      "source": [
        "corpus = [dictionary.doc2bow(doc) for doc in tokenized_docs]\n",
        "print(corpus) "
      ],
      "metadata": {
        "colab": {
          "base_uri": "https://localhost:8080/"
        },
        "id": "mFoYhZ4dCskH",
        "outputId": "ab7ac8c5-86a4-427c-c5b5-1162b6d945f1"
      },
      "execution_count": null,
      "outputs": [
        {
          "output_type": "stream",
          "name": "stdout",
          "text": [
            "[[(0, 1), (1, 1), (2, 1), (3, 1), (4, 1), (5, 1), (6, 1), (7, 1), (8, 1), (9, 1), (10, 1), (11, 1), (12, 1), (13, 1), (14, 2), (15, 2), (16, 1)], [(0, 2), (8, 4), (9, 4), (12, 4), (15, 2), (17, 1), (18, 1), (19, 1), (20, 1), (21, 1), (22, 1), (23, 1), (24, 1), (25, 1), (26, 2), (27, 1), (28, 1), (29, 1), (30, 1), (31, 1), (32, 1), (33, 1), (34, 1), (35, 1)], [(0, 1), (1, 1), (8, 1), (9, 1), (12, 1), (14, 2), (15, 1), (22, 1), (32, 3), (35, 2), (36, 3), (37, 2), (38, 1), (39, 2), (40, 1), (41, 1), (42, 1), (43, 1), (44, 1), (45, 1), (46, 1), (47, 3), (48, 1), (49, 1), (50, 1), (51, 1), (52, 1), (53, 1), (54, 1), (55, 1), (56, 1), (57, 1), (58, 1), (59, 1), (60, 1), (61, 1), (62, 1), (63, 1), (64, 1), (65, 1), (66, 2), (67, 1), (68, 1), (69, 1), (70, 1), (71, 1), (72, 1), (73, 1), (74, 2), (75, 1), (76, 1), (77, 1), (78, 1), (79, 2), (80, 1)]]\n"
          ]
        }
      ]
    },
    {
      "cell_type": "markdown",
      "source": [
        "## GENSIM Bag of Words"
      ],
      "metadata": {
        "id": "IY2qPsnEFVtx"
      }
    },
    {
      "cell_type": "code",
      "source": [
        "doc = corpus[0]\n",
        "print(doc)\n",
        "\n"
      ],
      "metadata": {
        "colab": {
          "base_uri": "https://localhost:8080/"
        },
        "id": "CvnxPDIdFZ1p",
        "outputId": "8886ffe4-4935-42c0-af17-a09e4d24d632"
      },
      "execution_count": null,
      "outputs": [
        {
          "output_type": "stream",
          "name": "stdout",
          "text": [
            "[(0, 1), (1, 1), (2, 1), (3, 1), (4, 1), (5, 1), (6, 1), (7, 1), (8, 1), (9, 1), (10, 1), (11, 1), (12, 1), (13, 1), (14, 2), (15, 2), (16, 1)]\n"
          ]
        }
      ]
    },
    {
      "cell_type": "code",
      "source": [
        "bow_doc = sorted(doc, key=lambda w: w[1], reverse=True) # sorteer doc met hoogste waarden eerst"
      ],
      "metadata": {
        "id": "2hT87T93Ifdz"
      },
      "execution_count": null,
      "outputs": []
    },
    {
      "cell_type": "code",
      "source": [
        "print(bow_doc)"
      ],
      "metadata": {
        "colab": {
          "base_uri": "https://localhost:8080/"
        },
        "id": "OroKTIUHI2Ou",
        "outputId": "1e60c734-3335-43fc-fe4f-ae2df31d1fc5"
      },
      "execution_count": null,
      "outputs": [
        {
          "output_type": "stream",
          "name": "stdout",
          "text": [
            "[(14, 2), (15, 2), (0, 1), (1, 1), (2, 1), (3, 1), (4, 1), (5, 1), (6, 1), (7, 1), (8, 1), (9, 1), (10, 1), (11, 1), (12, 1), (13, 1), (16, 1)]\n"
          ]
        }
      ]
    },
    {
      "cell_type": "markdown",
      "source": [
        "Print top 5 woorden van het document naast de count."
      ],
      "metadata": {
        "id": "myETPY09IsGl"
      }
    },
    {
      "cell_type": "code",
      "source": [
        "for word_id, word_count in bow_doc[:5]:\n",
        "    print(dictionary.get(word_id), word_count)"
      ],
      "metadata": {
        "colab": {
          "base_uri": "https://localhost:8080/"
        },
        "id": "yoDTraE7Im5R",
        "outputId": "553784bf-c9c1-4f02-9e75-ee411360c954"
      },
      "execution_count": null,
      "outputs": [
        {
          "output_type": "stream",
          "name": "stdout",
          "text": [
            "to 2\n",
            "we 2\n",
            ". 1\n",
            "a 1\n",
            "bear 1\n"
          ]
        }
      ]
    },
    {
      "cell_type": "code",
      "source": [
        "from collections import defaultdict\n",
        "import itertools   \n"
      ],
      "metadata": {
        "id": "pYluyVa9Jj8o"
      },
      "execution_count": null,
      "outputs": []
    },
    {
      "cell_type": "code",
      "source": [
        "# Creatie default dictionary met het totaal aantal woord count\n",
        "\n",
        "total_word_count = defaultdict(int)\n",
        "for word_id, word_count in itertools.chain.from_iterable(corpus):\n",
        "    total_word_count[word_id] += word_count"
      ],
      "metadata": {
        "id": "IyWnwG61IrKP"
      },
      "execution_count": null,
      "outputs": []
    },
    {
      "cell_type": "code",
      "source": [
        "print(total_word_count)"
      ],
      "metadata": {
        "colab": {
          "base_uri": "https://localhost:8080/"
        },
        "id": "M4RkSfEjKhWW",
        "outputId": "b680cd83-176c-46ef-baca-263c9c0a4863"
      },
      "execution_count": null,
      "outputs": [
        {
          "output_type": "stream",
          "name": "stdout",
          "text": [
            "defaultdict(<class 'int'>, {0: 4, 1: 2, 2: 1, 3: 1, 4: 1, 5: 1, 6: 1, 7: 1, 8: 6, 9: 6, 10: 1, 11: 1, 12: 6, 13: 1, 14: 4, 15: 5, 16: 1, 17: 1, 18: 1, 19: 1, 20: 1, 21: 1, 22: 2, 23: 1, 24: 1, 25: 1, 26: 2, 27: 1, 28: 1, 29: 1, 30: 1, 31: 1, 32: 4, 33: 1, 34: 1, 35: 3, 36: 3, 37: 2, 38: 1, 39: 2, 40: 1, 41: 1, 42: 1, 43: 1, 44: 1, 45: 1, 46: 1, 47: 3, 48: 1, 49: 1, 50: 1, 51: 1, 52: 1, 53: 1, 54: 1, 55: 1, 56: 1, 57: 1, 58: 1, 59: 1, 60: 1, 61: 1, 62: 1, 63: 1, 64: 1, 65: 1, 66: 2, 67: 1, 68: 1, 69: 1, 70: 1, 71: 1, 72: 1, 73: 1, 74: 2, 75: 1, 76: 1, 77: 1, 78: 1, 79: 2, 80: 1})\n"
          ]
        }
      ]
    },
    {
      "cell_type": "code",
      "source": [
        "sorted_word_count = sorted(total_word_count.items(), key=lambda w: w[1], reverse=True) \n",
        "print(sorted_word_count)"
      ],
      "metadata": {
        "colab": {
          "base_uri": "https://localhost:8080/"
        },
        "id": "byifrWpYLwQ9",
        "outputId": "b7200d44-5169-4095-9642-f76b87da33f1"
      },
      "execution_count": null,
      "outputs": [
        {
          "output_type": "stream",
          "name": "stdout",
          "text": [
            "[(8, 6), (9, 6), (12, 6), (15, 5), (0, 4), (14, 4), (32, 4), (35, 3), (36, 3), (47, 3), (1, 2), (22, 2), (26, 2), (37, 2), (39, 2), (66, 2), (74, 2), (79, 2), (2, 1), (3, 1), (4, 1), (5, 1), (6, 1), (7, 1), (10, 1), (11, 1), (13, 1), (16, 1), (17, 1), (18, 1), (19, 1), (20, 1), (21, 1), (23, 1), (24, 1), (25, 1), (27, 1), (28, 1), (29, 1), (30, 1), (31, 1), (33, 1), (34, 1), (38, 1), (40, 1), (41, 1), (42, 1), (43, 1), (44, 1), (45, 1), (46, 1), (48, 1), (49, 1), (50, 1), (51, 1), (52, 1), (53, 1), (54, 1), (55, 1), (56, 1), (57, 1), (58, 1), (59, 1), (60, 1), (61, 1), (62, 1), (63, 1), (64, 1), (65, 1), (67, 1), (68, 1), (69, 1), (70, 1), (71, 1), (72, 1), (73, 1), (75, 1), (76, 1), (77, 1), (78, 1), (80, 1)]\n"
          ]
        }
      ]
    },
    {
      "cell_type": "code",
      "source": [
        "for word_id, word_count in sorted_word_count[:5]:\n",
        "    print(dictionary.get(word_id), word_count)"
      ],
      "metadata": {
        "colab": {
          "base_uri": "https://localhost:8080/"
        },
        "id": "kD_4D3TdL3En",
        "outputId": "0168acdc-8f6e-4cc7-9d0d-43ec9c37dc4e"
      },
      "execution_count": null,
      "outputs": [
        {
          "output_type": "stream",
          "name": "stdout",
          "text": [
            "of 6\n",
            "our 6\n",
            "the 6\n",
            "we 5\n",
            ". 4\n"
          ]
        }
      ]
    },
    {
      "cell_type": "markdown",
      "source": [
        "corpus  = \n",
        "corpora = \n",
        "\n"
      ],
      "metadata": {
        "id": "qYmbyE0FPolB"
      }
    },
    {
      "cell_type": "markdown",
      "source": [
        "# TF_IDF model from GENSIM"
      ],
      "metadata": {
        "id": "gb1pzKmzakTR"
      }
    },
    {
      "cell_type": "code",
      "source": [
        "from gensim.models.tfidfmodel import TfidfModel\n",
        "tfidf = TfidfModel(corpus)\n",
        "tfidf_weights = tfidf[corpus[1]]\n",
        "print(tfidf_weights)\n"
      ],
      "metadata": {
        "colab": {
          "base_uri": "https://localhost:8080/"
        },
        "id": "4LnBQAwUapPF",
        "outputId": "29d4d65f-4a1e-4cd7-9ad4-d190af9b318f"
      },
      "execution_count": null,
      "outputs": [
        {
          "output_type": "stream",
          "name": "stdout",
          "text": [
            "[(17, 0.2269877730259409), (18, 0.2269877730259409), (19, 0.2269877730259409), (20, 0.2269877730259409), (21, 0.2269877730259409), (22, 0.08377443332695009), (23, 0.2269877730259409), (24, 0.2269877730259409), (25, 0.2269877730259409), (26, 0.4539755460518818), (27, 0.2269877730259409), (28, 0.2269877730259409), (29, 0.2269877730259409), (30, 0.2269877730259409), (31, 0.2269877730259409), (32, 0.08377443332695009), (33, 0.2269877730259409), (34, 0.2269877730259409), (35, 0.08377443332695009)]\n"
          ]
        }
      ]
    },
    {
      "cell_type": "code",
      "source": [],
      "metadata": {
        "id": "JxYBXvJXbt6M"
      },
      "execution_count": null,
      "outputs": []
    },
    {
      "cell_type": "code",
      "source": [
        "sorted_tfidf_weights = sorted(tfidf_weights, key=lambda w: w[1], reverse=True)\n",
        "print(sorted_tfidf_weights)"
      ],
      "metadata": {
        "colab": {
          "base_uri": "https://localhost:8080/"
        },
        "id": "5p48JUTZeFBU",
        "outputId": "af170aeb-2fc6-4a1b-b07f-27c9f9d89f7e"
      },
      "execution_count": null,
      "outputs": [
        {
          "output_type": "stream",
          "name": "stdout",
          "text": [
            "[(26, 0.4539755460518818), (17, 0.2269877730259409), (18, 0.2269877730259409), (19, 0.2269877730259409), (20, 0.2269877730259409), (21, 0.2269877730259409), (23, 0.2269877730259409), (24, 0.2269877730259409), (25, 0.2269877730259409), (27, 0.2269877730259409), (28, 0.2269877730259409), (29, 0.2269877730259409), (30, 0.2269877730259409), (31, 0.2269877730259409), (33, 0.2269877730259409), (34, 0.2269877730259409), (22, 0.08377443332695009), (32, 0.08377443332695009), (35, 0.08377443332695009)]\n"
          ]
        }
      ]
    },
    {
      "cell_type": "code",
      "source": [
        "\n",
        "# Print the top 5 weighted words\n",
        "for term_id, weight in sorted_tfidf_weights[:5]:\n",
        "    print(dictionary.get(term_id), weight)"
      ],
      "metadata": {
        "colab": {
          "base_uri": "https://localhost:8080/"
        },
        "id": "mOBTXJ55eVHZ",
        "outputId": "9170dbaa-122a-492c-b716-bff08fa5e48a"
      },
      "execution_count": null,
      "outputs": [
        {
          "output_type": "stream",
          "name": "stdout",
          "text": [
            "or 0.4539755460518818\n",
            "affirm 0.2269877730259409\n",
            "binds 0.2269877730259409\n",
            "colors 0.2269877730259409\n",
            "democracy 0.2269877730259409\n"
          ]
        }
      ]
    }
  ],
  "metadata": {
    "kernelspec": {
      "display_name": "Python 3",
      "name": "python3"
    },
    "datalore": {
      "computation_mode": "JUPYTER",
      "package_manager": "pip",
      "base_environment": "default",
      "packages": [
        {
          "name": "nltk",
          "version": "3.8.1",
          "source": "PIP"
        },
        {
          "name": "nltkdata",
          "version": "0.0.1",
          "source": "PIP"
        }
      ],
      "report_row_ids": [
        "MxAwQYk3s3icRHqfdfSr8R",
        "AYfV49bEjW0Nm1zVl1UYGS",
        "t8ZIQoN9CrxS6xiwIQOPsj",
        "2I7iuCerRfeNd6yp4uG3bX",
        "fVgsKCRtQOhrFyMC4sw5iY",
        "eWnipDt6AcBggBXc6WlZ44",
        "DYCwzjS2bzI93nN6eB0PfD",
        "fUaFlHqZRx50okS653g977",
        "8Ih49bUzwVOepiislpQ5xf",
        "PU25YLWaLraUIqaBP9P3vp",
        "pqa2tkgGDJlcOLAfaujzgT",
        "WRWct031ossuuAOvwX4qiq",
        "EoYrmfj2gXtIj6N4RTWpVK",
        "mckmzY7PkZQfajL1jmhOuo",
        "VR8ptt52G5MdeR0QEEewcM",
        "w5c6kljRw9XJGECa9J0SBu",
        "aww00FEAYOebIPbBEI1eKq",
        "AP2qzex94gFjmpOBP19SaO",
        "Ucn2CYCFOZfLcjRmlHYkNA",
        "F6Y9p86g4DKVRqUW2cwFcu",
        "tX4z04ADSy12OBSIstXSuW",
        "c6xt4DUoisITFFjtMEQ58p",
        "uVZSWM9xCQJx5XE8TxGiFc",
        "u8ZiBB23MGiYpalnQEoXwQ",
        "U7yMQbS2tTkH6v5QxjCrv2",
        "tWX6MWg6J7XJ65n4jBvDEJ",
        "BzxHilt8VffvYJJmwyOSNO",
        "Y0RwQKzfyv299qgLlYkqgI",
        "ASU2sohF0EBYdPHNa4O5Bq",
        "EruEgnM09WXBNfSbCeNJa7",
        "K2CzsCzxGsc91mBDRGaVyx",
        "7kKKS7xXuyEDBcGNVSjB4W",
        "4UFKPFEHLCyPXM1Um9iWP2",
        "OXBoL2jzXHAWqz3l4HowMu",
        "OIfwB6NSWJNAThAXaJ05VT",
        "03shOn5M5b38aWpHNXYWKe",
        "jsAI6wLSlSuUNiGhdk4BsB",
        "LzIMD2B37TLvD67RihJcRi"
      ],
      "version": 2
    },
    "colab": {
      "provenance": [],
      "include_colab_link": true
    },
    "language_info": {
      "name": "python"
    },
    "gpuClass": "standard"
  },
  "nbformat": 4,
  "nbformat_minor": 0
}